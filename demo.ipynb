{
 "cells": [
  {
   "cell_type": "markdown",
   "metadata": {},
   "source": [
    "#### Load HumanEval and generate perturbations in solution code"
   ]
  },
  {
   "cell_type": "code",
   "execution_count": 10,
   "metadata": {},
   "outputs": [],
   "source": [
    "import ast\n",
    "import random\n",
    "import pandas as pd\n",
    "import difflib\n",
    "\n",
    "from utils import Perturber"
   ]
  },
  {
   "cell_type": "code",
   "execution_count": 12,
   "metadata": {},
   "outputs": [],
   "source": [
    "import pandas as pd\n",
    "bugfactory = Perturber()\n",
    "\n",
    "def perturb_humaneval(filepath):\n",
    "    df = pd.read_csv(filepath)\n",
    "    df['solution'] = df['prompt'] + df['canonical_solution']\n",
    "\n",
    "    var_perturbations, expr_perturbations = list(), list()\n",
    "    for i, row in df.iterrows():\n",
    "        code = row['solution']\n",
    "        var_bug = bugfactory.randomly_modify_variable(code)\n",
    "        if not bugfactory.same_tree(code, var_bug):\n",
    "            var_perturbations.append(var_bug)\n",
    "        \n",
    "        expr_bug = bugfactory.randomly_modify_expression(code)\n",
    "        if not bugfactory.same_tree(code, expr_bug):\n",
    "            expr_perturbations.append(expr_bug)\n",
    "    return list(df['solution']), var_perturbations, expr_perturbations\n",
    "        \n",
    "solution, variable_changes, expression_changes = perturb_humaneval('data/test.csv')"
   ]
  },
  {
   "cell_type": "markdown",
   "metadata": {},
   "source": [
    "#### Check out results 😄"
   ]
  },
  {
   "cell_type": "code",
   "execution_count": 13,
   "metadata": {},
   "outputs": [
    {
     "name": "stdout",
     "output_type": "stream",
     "text": [
      "Dataset size: 164\n",
      "Successful variable perturbations: 162\n",
      "Successful expression perturbations: 122\n"
     ]
    }
   ],
   "source": [
    "print(f'Dataset size: {len(solution)}')\n",
    "print(f'Successful variable perturbations: {len(variable_changes)}')\n",
    "print(f'Successful expression perturbations: {len(expression_changes)}')"
   ]
  },
  {
   "cell_type": "markdown",
   "metadata": {},
   "source": [
    "This project is still in its weekend-hack stages, the perturbations for all possible expression types and variable types have not been implemented yet. In addition, if a particular Python function does not have more than one variable, we **cannot** randomly sample a replacement to reinsert in the code. Excited to dig deeper into ast hierarchical structure and add more possibilities soon.\n",
    "\n",
    "Note the difference in the last line of the the two outputs below; the original solution calculates the mean absolute deviation by dividing the sum of deviations by the size of the number list, while the corrupted solution divides by the SUM of the number list."
   ]
  },
  {
   "cell_type": "code",
   "execution_count": 19,
   "metadata": {},
   "outputs": [
    {
     "name": "stdout",
     "output_type": "stream",
     "text": [
      "from typing import List\n",
      "\n",
      "\n",
      "def mean_absolute_deviation(numbers: List[float]) -> float:\n",
      "    \"\"\" For a given list of input numbers, calculate Mean Absolute Deviation\n",
      "    around the mean of this dataset.\n",
      "    Mean Absolute Deviation is the average absolute difference between each\n",
      "    element and a centerpoint (mean in this case):\n",
      "    MAD = average | x - x_mean |\n",
      "    >>> mean_absolute_deviation([1.0, 2.0, 3.0, 4.0])\n",
      "    1.0\n",
      "    \"\"\"\n",
      "    mean = sum(numbers) / len(numbers)\n",
      "    return sum(abs(x - mean) for x in numbers) / len(numbers)\n",
      "\n"
     ]
    }
   ],
   "source": [
    "print(solution[4])"
   ]
  },
  {
   "cell_type": "code",
   "execution_count": 20,
   "metadata": {},
   "outputs": [
    {
     "name": "stdout",
     "output_type": "stream",
     "text": [
      "from typing import List\n",
      "\n",
      "def mean_absolute_deviation(numbers: List[float]) -> float:\n",
      "    \"\"\" For a given list of input numbers, calculate Mean Absolute Deviation\n",
      "    around the mean of this dataset.\n",
      "    Mean Absolute Deviation is the average absolute difference between each\n",
      "    element and a centerpoint (mean in this case):\n",
      "    MAD = average | x - x_mean |\n",
      "    >>> mean_absolute_deviation([1.0, 2.0, 3.0, 4.0])\n",
      "    1.0\n",
      "    \"\"\"\n",
      "    mean = sum(numbers) / len(numbers)\n",
      "    return sum((abs(x - mean) for x in numbers)) / sum(numbers)\n"
     ]
    }
   ],
   "source": [
    "print(variable_changes[4])"
   ]
  }
 ],
 "metadata": {
  "kernelspec": {
   "display_name": "Python 3",
   "language": "python",
   "name": "python3"
  },
  "language_info": {
   "codemirror_mode": {
    "name": "ipython",
    "version": 3
   },
   "file_extension": ".py",
   "mimetype": "text/x-python",
   "name": "python",
   "nbconvert_exporter": "python",
   "pygments_lexer": "ipython3",
   "version": "3.10.13"
  }
 },
 "nbformat": 4,
 "nbformat_minor": 2
}
